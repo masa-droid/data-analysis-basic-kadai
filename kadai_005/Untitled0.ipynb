{
  "nbformat": 4,
  "nbformat_minor": 0,
  "metadata": {
    "colab": {
      "provenance": []
    },
    "kernelspec": {
      "name": "python3",
      "display_name": "Python 3"
    },
    "language_info": {
      "name": "python"
    }
  },
  "cells": [
    {
      "cell_type": "code",
      "execution_count": 3,
      "metadata": {
        "colab": {
          "base_uri": "https://localhost:8080/"
        },
        "id": "TSaORKELCbGU",
        "outputId": "64187ddb-069f-4f09-bde5-21bf4390068e"
      },
      "outputs": [
        {
          "output_type": "stream",
          "name": "stdout",
          "text": [
            "3\n"
          ]
        }
      ],
      "source": [
        "# prompt: print(1+2);\n",
        "\n",
        "print(1+2)\n"
      ]
    },
    {
      "cell_type": "code",
      "source": [
        "top_side = 10\n",
        "bottom_side = 20\n",
        "height = 5\n",
        "area = (top_side + bottom_side) * height / 2\n",
        "print(str(area) + \"㎝²\")\n"
      ],
      "metadata": {
        "colab": {
          "base_uri": "https://localhost:8080/"
        },
        "id": "KogwNKIJDEYT",
        "outputId": "bdb89ce0-db1d-48ba-a9a8-bdcba663cae0"
      },
      "execution_count": 1,
      "outputs": [
        {
          "output_type": "stream",
          "name": "stdout",
          "text": [
            "75.0㎝²\n"
          ]
        }
      ]
    }
  ]
}